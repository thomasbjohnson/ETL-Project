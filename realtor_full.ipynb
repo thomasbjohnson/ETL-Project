{
 "metadata": {
  "language_info": {
   "codemirror_mode": {
    "name": "ipython",
    "version": 3
   },
   "file_extension": ".py",
   "mimetype": "text/x-python",
   "name": "python",
   "nbconvert_exporter": "python",
   "pygments_lexer": "ipython3",
   "version": "3.8.5-final"
  },
  "orig_nbformat": 2,
  "kernelspec": {
   "name": "python3",
   "display_name": "Python 3",
   "language": "python"
  }
 },
 "nbformat": 4,
 "nbformat_minor": 2,
 "cells": [
  {
   "source": [
    "import requests\n",
    "import pandas as pd\n",
    "import json\n",
    "import api_key\n",
    "\n",
    "url = \"https://realtor.p.rapidapi.com/properties/v2/list-for-sale\""
   ],
   "cell_type": "code",
   "metadata": {},
   "execution_count": 7,
   "outputs": []
  },
  {
   "cell_type": "code",
   "execution_count": 8,
   "metadata": {},
   "outputs": [],
   "source": [
    "postal_codes = [\"80911\", \"43068\", \"14617\", \"02176\", \"04106\", \"66614\", \"46804\", \"01602\", \"22152\", \"27604\"]"
   ]
  },
  {
   "cell_type": "code",
   "execution_count": 9,
   "metadata": {
    "tags": []
   },
   "outputs": [],
   "source": [
    "\n",
    "for code in postal_codes: \n",
    "    querystring = {\"postal_code\":code,\"limit\":\"100\",\"offset\":\"0\",\"sort\":\"lowest price\"}\n",
    "    response = requests.request(\"GET\", url, headers=api_key.headers, params=querystring).json()\n",
    "    prop_type =[]\n",
    "    city=[]\n",
    "    lat=[]\n",
    "    lon= []     \n",
    "    price=[]\n",
    "    building_size = []\n",
    "    county_=[]\n",
    "    postal_code=[]\n",
    "    search_key='building_size'\n",
    "    for s in range(len(response['properties'])):\n",
    "\n",
    "    #     county_.append(response[\"properties\"][s][\"address\"][\"county\"])\n",
    "        lat.append(response[\"properties\"][s][\"address\"][\"lat\"])\n",
    "        lon.append(response[\"properties\"][s][\"address\"][\"lon\"])\n",
    "        price.append(response[\"properties\"][s][\"price\"])\n",
    "        city.append(response[\"properties\"][s][\"address\"][\"city\"])\n",
    "        \n",
    "        if search_key in response[\"properties\"][s].keys():\n",
    "            postal_code.append(response[\"properties\"][s][\"address\"][\"postal_code\"])\n",
    "        else:\n",
    "            postal_code.append('NA')\n",
    "            \n",
    "        if search_key in response[\"properties\"][s].keys():\n",
    "            building_size.append(response[\"properties\"][s][\"building_size\"][\"size\"])\n",
    "        else:\n",
    "            building_size.append('NA')\n",
    "\n",
    "        realtor_df = pd.DataFrame(list(zip(prop_type, city, postal_code, lat, lon, building_size, price)), \n",
    "            columns =['prop_type', 'city', 'postal_code', 'lat', 'lon', 'size (sqft)', 'price']) \n",
    "        realtor_df.to_csv(f\"output/{code}.csv\", mode=\"w+\")\n"
   ]
  },
  {
   "cell_type": "code",
   "execution_count": null,
   "metadata": {},
   "outputs": [],
   "source": []
  }
 ]
}